{
 "cells": [
  {
   "cell_type": "code",
   "execution_count": 10,
   "id": "afb26128",
   "metadata": {},
   "outputs": [],
   "source": [
    "def index1():\n",
    "    try:\n",
    "        v=int(input(\"enter an integer\"))\n",
    "        print(v[1:5])\n",
    "    except Exception as e:\n",
    "        print(e)\n",
    "        print(\"please enter an integer\")\n"
   ]
  },
  {
   "cell_type": "code",
   "execution_count": 11,
   "id": "4d0a8223",
   "metadata": {},
   "outputs": [
    {
     "name": "stdout",
     "output_type": "stream",
     "text": [
      "enter an integerasdflkjas;klrj\n",
      "invalid literal for int() with base 10: 'asdflkjas;klrj'\n",
      "please enter an integer\n"
     ]
    }
   ],
   "source": [
    "index1()"
   ]
  },
  {
   "cell_type": "code",
   "execution_count": 5,
   "id": "37ff3969",
   "metadata": {},
   "outputs": [
    {
     "name": "stdout",
     "output_type": "stream",
     "text": [
      "prince\n",
      "prince\n"
     ]
    }
   ],
   "source": [
    "s=input()\n",
    "print(s)"
   ]
  },
  {
   "cell_type": "code",
   "execution_count": null,
   "id": "acc5cc6c",
   "metadata": {},
   "outputs": [],
   "source": []
  },
  {
   "cell_type": "code",
   "execution_count": 18,
   "id": "338dc51c",
   "metadata": {},
   "outputs": [
    {
     "name": "stdout",
     "output_type": "stream",
     "text": [
      "name 'asdfasdf' is not defined\n",
      "please enter an integer\n"
     ]
    }
   ],
   "source": [
    "try:\n",
    "    index1(asdfasdf)\n",
    "except Exception as e:\n",
    "    print(e)\n",
    "    print(\"please enter an integer\")"
   ]
  },
  {
   "cell_type": "code",
   "execution_count": null,
   "id": "2c86c9c6",
   "metadata": {},
   "outputs": [],
   "source": []
  }
 ],
 "metadata": {
  "kernelspec": {
   "display_name": "Python 3",
   "language": "python",
   "name": "python3"
  },
  "language_info": {
   "codemirror_mode": {
    "name": "ipython",
    "version": 3
   },
   "file_extension": ".py",
   "mimetype": "text/x-python",
   "name": "python",
   "nbconvert_exporter": "python",
   "pygments_lexer": "ipython3",
   "version": "3.8.8"
  }
 },
 "nbformat": 4,
 "nbformat_minor": 5
}
